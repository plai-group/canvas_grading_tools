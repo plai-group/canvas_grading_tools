{
 "cells": [
  {
   "cell_type": "markdown",
   "metadata": {},
   "source": [
    "# Bulk grade students on canvas"
   ]
  },
  {
   "cell_type": "code",
   "execution_count": 4,
   "metadata": {},
   "outputs": [],
   "source": [
    "from canvasapi import Canvas\n",
    "from pprint import pprint\n",
    "import os\n",
    "import pandas as pd"
   ]
  },
  {
   "cell_type": "markdown",
   "metadata": {},
   "source": [
    "## 0. Load assignment globals and filter valid and invalid submissions"
   ]
  },
  {
   "cell_type": "code",
   "execution_count": 2,
   "metadata": {},
   "outputs": [],
   "source": [
    "API_URL = \"https://canvas.ubc.ca/\" # default is canvas.ubc\n",
    "API_KEY = os.getenv(\"CANVAS_API\")  # canvas.ubc instructor token\n",
    "COURSE_CODE = 53659\n",
    "canvas = Canvas(API_URL, API_KEY)\n",
    "course = canvas.get_course(COURSE_CODE)"
   ]
  },
  {
   "cell_type": "code",
   "execution_count": 5,
   "metadata": {},
   "outputs": [],
   "source": [
    "assignment_number = 664385\n",
    "assignment = course.get_assignment(assignment_number)\n",
    "\n",
    "rubric = (pd.DataFrame(assignment.rubric).set_index('id'))\n",
    "\n",
    "all_submissions = list(assignment.get_submissions())\n",
    "valid_submissions = [sub for sub in all_submissions if sub.submission_type is not None]\n",
    "invalid_submission = [sub for sub in all_submissions if sub.submission_type is None]\n",
    "\n",
    "autograde_rubric_id = rubric[rubric.description == \"Autograded Exercises\"].index.tolist()"
   ]
  },
  {
   "cell_type": "code",
   "execution_count": 6,
   "metadata": {},
   "outputs": [],
   "source": [
    "# rubric.to_csv(\"../unmarked/rubric.csv\")"
   ]
  },
  {
   "cell_type": "markdown",
   "metadata": {},
   "source": [
    "## 1. Get perfect scores + autogrades"
   ]
  },
  {
   "cell_type": "code",
   "execution_count": 5,
   "metadata": {},
   "outputs": [
    {
     "name": "stderr",
     "output_type": "stream",
     "text": [
      "[Parallel(n_jobs=128)]: Using backend ThreadingBackend with 128 concurrent workers.\n",
      "[Parallel(n_jobs=128)]: Done   4 out of 129 | elapsed:    5.8s remaining:  3.0min\n",
      "[Parallel(n_jobs=128)]: Done  17 out of 129 | elapsed:    8.8s remaining:   57.9s\n",
      "[Parallel(n_jobs=128)]: Done  30 out of 129 | elapsed:    9.6s remaining:   31.7s\n",
      "[Parallel(n_jobs=128)]: Done  43 out of 129 | elapsed:   10.7s remaining:   21.3s\n",
      "[Parallel(n_jobs=128)]: Done  56 out of 129 | elapsed:   11.3s remaining:   14.8s\n",
      "[Parallel(n_jobs=128)]: Done  69 out of 129 | elapsed:   12.2s remaining:   10.6s\n",
      "[Parallel(n_jobs=128)]: Done  82 out of 129 | elapsed:   13.2s remaining:    7.6s\n",
      "[Parallel(n_jobs=128)]: Done  95 out of 129 | elapsed:   14.1s remaining:    5.0s\n",
      "[Parallel(n_jobs=128)]: Done 108 out of 129 | elapsed:   16.2s remaining:    3.1s\n",
      "[Parallel(n_jobs=128)]: Done 121 out of 129 | elapsed:   17.4s remaining:    1.2s\n"
     ]
    },
    {
     "name": "stdout",
     "output_type": "stream",
     "text": [
      "CPU times: user 11.4 s, sys: 3.73 s, total: 15.1 s\n",
      "Wall time: 19.1 s\n"
     ]
    },
    {
     "name": "stderr",
     "output_type": "stream",
     "text": [
      "[Parallel(n_jobs=128)]: Done 129 out of 129 | elapsed:   19.0s finished\n"
     ]
    }
   ],
   "source": [
    "%%time\n",
    "autograde_rubric_id = '_195'\n",
    "scores = get_perfect(valid_submissions)\n",
    "scores[autograde_rubric_id] = autograde(valid_submissions, autograde_rubric_id)"
   ]
  },
  {
   "cell_type": "markdown",
   "metadata": {},
   "source": [
    "## 2. Save as csv, go through students submissions and change csv by hand using letter grades \n",
    "(points not good here bc each question has diff letter -> point mapping)"
   ]
  },
  {
   "cell_type": "code",
   "execution_count": 6,
   "metadata": {},
   "outputs": [
    {
     "data": {
      "text/html": [
       "<div>\n",
       "<style scoped>\n",
       "    .dataframe tbody tr th:only-of-type {\n",
       "        vertical-align: middle;\n",
       "    }\n",
       "\n",
       "    .dataframe tbody tr th {\n",
       "        vertical-align: top;\n",
       "    }\n",
       "\n",
       "    .dataframe thead th {\n",
       "        text-align: right;\n",
       "    }\n",
       "</style>\n",
       "<table border=\"1\" class=\"dataframe\">\n",
       "  <thead>\n",
       "    <tr style=\"text-align: right;\">\n",
       "      <th></th>\n",
       "      <th>_4655</th>\n",
       "      <th>_7464</th>\n",
       "      <th>_3484</th>\n",
       "      <th>_8393</th>\n",
       "      <th>_522</th>\n",
       "      <th>_2766</th>\n",
       "      <th>_202</th>\n",
       "      <th>_9716</th>\n",
       "      <th>_3461</th>\n",
       "      <th>_195</th>\n",
       "    </tr>\n",
       "  </thead>\n",
       "  <tbody>\n",
       "    <tr>\n",
       "      <th>1591</th>\n",
       "      <td>A+</td>\n",
       "      <td>A+</td>\n",
       "      <td>A+</td>\n",
       "      <td>A+</td>\n",
       "      <td>A+</td>\n",
       "      <td>A+</td>\n",
       "      <td>A+</td>\n",
       "      <td>A+</td>\n",
       "      <td>A+</td>\n",
       "      <td>9</td>\n",
       "    </tr>\n",
       "    <tr>\n",
       "      <th>3077</th>\n",
       "      <td>A+</td>\n",
       "      <td>A+</td>\n",
       "      <td>A+</td>\n",
       "      <td>A+</td>\n",
       "      <td>A+</td>\n",
       "      <td>A+</td>\n",
       "      <td>A+</td>\n",
       "      <td>A+</td>\n",
       "      <td>A+</td>\n",
       "      <td>0</td>\n",
       "    </tr>\n",
       "    <tr>\n",
       "      <th>3262</th>\n",
       "      <td>A+</td>\n",
       "      <td>A+</td>\n",
       "      <td>A+</td>\n",
       "      <td>A+</td>\n",
       "      <td>A+</td>\n",
       "      <td>A+</td>\n",
       "      <td>A+</td>\n",
       "      <td>A+</td>\n",
       "      <td>A+</td>\n",
       "      <td>9</td>\n",
       "    </tr>\n",
       "    <tr>\n",
       "      <th>15450</th>\n",
       "      <td>A+</td>\n",
       "      <td>A+</td>\n",
       "      <td>A+</td>\n",
       "      <td>A+</td>\n",
       "      <td>A+</td>\n",
       "      <td>A+</td>\n",
       "      <td>A+</td>\n",
       "      <td>A+</td>\n",
       "      <td>A+</td>\n",
       "      <td>9</td>\n",
       "    </tr>\n",
       "    <tr>\n",
       "      <th>16724</th>\n",
       "      <td>A+</td>\n",
       "      <td>A+</td>\n",
       "      <td>A+</td>\n",
       "      <td>A+</td>\n",
       "      <td>A+</td>\n",
       "      <td>A+</td>\n",
       "      <td>A+</td>\n",
       "      <td>A+</td>\n",
       "      <td>A+</td>\n",
       "      <td>9</td>\n",
       "    </tr>\n",
       "    <tr>\n",
       "      <th>...</th>\n",
       "      <td>...</td>\n",
       "      <td>...</td>\n",
       "      <td>...</td>\n",
       "      <td>...</td>\n",
       "      <td>...</td>\n",
       "      <td>...</td>\n",
       "      <td>...</td>\n",
       "      <td>...</td>\n",
       "      <td>...</td>\n",
       "      <td>...</td>\n",
       "    </tr>\n",
       "    <tr>\n",
       "      <th>564304</th>\n",
       "      <td>A+</td>\n",
       "      <td>A+</td>\n",
       "      <td>A+</td>\n",
       "      <td>A+</td>\n",
       "      <td>A+</td>\n",
       "      <td>A+</td>\n",
       "      <td>A+</td>\n",
       "      <td>A+</td>\n",
       "      <td>A+</td>\n",
       "      <td>9</td>\n",
       "    </tr>\n",
       "    <tr>\n",
       "      <th>566247</th>\n",
       "      <td>A+</td>\n",
       "      <td>A+</td>\n",
       "      <td>A+</td>\n",
       "      <td>A+</td>\n",
       "      <td>A+</td>\n",
       "      <td>A+</td>\n",
       "      <td>A+</td>\n",
       "      <td>A+</td>\n",
       "      <td>A+</td>\n",
       "      <td>9</td>\n",
       "    </tr>\n",
       "    <tr>\n",
       "      <th>566269</th>\n",
       "      <td>A+</td>\n",
       "      <td>A+</td>\n",
       "      <td>A+</td>\n",
       "      <td>A+</td>\n",
       "      <td>A+</td>\n",
       "      <td>A+</td>\n",
       "      <td>A+</td>\n",
       "      <td>A+</td>\n",
       "      <td>A+</td>\n",
       "      <td>9</td>\n",
       "    </tr>\n",
       "    <tr>\n",
       "      <th>566490</th>\n",
       "      <td>A+</td>\n",
       "      <td>A+</td>\n",
       "      <td>A+</td>\n",
       "      <td>A+</td>\n",
       "      <td>A+</td>\n",
       "      <td>A+</td>\n",
       "      <td>A+</td>\n",
       "      <td>A+</td>\n",
       "      <td>A+</td>\n",
       "      <td>8</td>\n",
       "    </tr>\n",
       "    <tr>\n",
       "      <th>570075</th>\n",
       "      <td>A+</td>\n",
       "      <td>A+</td>\n",
       "      <td>A+</td>\n",
       "      <td>A+</td>\n",
       "      <td>A+</td>\n",
       "      <td>A+</td>\n",
       "      <td>A+</td>\n",
       "      <td>A+</td>\n",
       "      <td>A+</td>\n",
       "      <td>0</td>\n",
       "    </tr>\n",
       "  </tbody>\n",
       "</table>\n",
       "<p>129 rows × 10 columns</p>\n",
       "</div>"
      ],
      "text/plain": [
       "       _4655 _7464 _3484 _8393 _522 _2766 _202 _9716 _3461 _195\n",
       "1591      A+    A+    A+    A+   A+    A+   A+    A+    A+    9\n",
       "3077      A+    A+    A+    A+   A+    A+   A+    A+    A+    0\n",
       "3262      A+    A+    A+    A+   A+    A+   A+    A+    A+    9\n",
       "15450     A+    A+    A+    A+   A+    A+   A+    A+    A+    9\n",
       "16724     A+    A+    A+    A+   A+    A+   A+    A+    A+    9\n",
       "...      ...   ...   ...   ...  ...   ...  ...   ...   ...  ...\n",
       "564304    A+    A+    A+    A+   A+    A+   A+    A+    A+    9\n",
       "566247    A+    A+    A+    A+   A+    A+   A+    A+    A+    9\n",
       "566269    A+    A+    A+    A+   A+    A+   A+    A+    A+    9\n",
       "566490    A+    A+    A+    A+   A+    A+   A+    A+    A+    8\n",
       "570075    A+    A+    A+    A+   A+    A+   A+    A+    A+    0\n",
       "\n",
       "[129 rows x 10 columns]"
      ]
     },
     "execution_count": 6,
     "metadata": {},
     "output_type": "execute_result"
    }
   ],
   "source": [
    "scores"
   ]
  },
  {
   "cell_type": "code",
   "execution_count": 7,
   "metadata": {},
   "outputs": [],
   "source": [
    "scores.to_csv(\"../unmarked/scores.csv\")"
   ]
  }
 ],
 "metadata": {
  "kernelspec": {
   "display_name": "Python 3",
   "language": "python",
   "name": "python3"
  },
  "language_info": {
   "codemirror_mode": {
    "name": "ipython",
    "version": 3
   },
   "file_extension": ".py",
   "mimetype": "text/x-python",
   "name": "python",
   "nbconvert_exporter": "python",
   "pygments_lexer": "ipython3",
   "version": "3.7.6"
  },
  "toc": {
   "base_numbering": 1,
   "nav_menu": {},
   "number_sections": true,
   "sideBar": true,
   "skip_h1_title": true,
   "title_cell": "Table of Contents",
   "title_sidebar": "Contents",
   "toc_cell": false,
   "toc_position": {},
   "toc_section_display": true,
   "toc_window_display": true
  },
  "toc-autonumbering": false
 },
 "nbformat": 4,
 "nbformat_minor": 4
}
